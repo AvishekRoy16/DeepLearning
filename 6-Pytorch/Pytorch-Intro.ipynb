{
 "cells": [
  {
   "cell_type": "markdown",
   "source": [
    "## Outline\r\n",
    "* PyTorch\r\n",
    "* What are tensors\r\n",
    "* Initialising, slicing, reshaping tensors\r\n",
    "* Numpy and PyTorch interfacing\r\n",
    "* GPU support for PyTorch + Enabling GPUs on Google Colab\r\n",
    "* Speed comparisons, Numpy -- PyTorch -- PyTorch on GPU\r\n",
    "* Autodiff concepts and application\r\n",
    "* Writing a basic learning loop using autograd\r\n",
    "* Exercises"
   ],
   "metadata": {}
  },
  {
   "cell_type": "code",
   "execution_count": 51,
   "source": [
    "import torch\r\n",
    "import numpy as np\r\n",
    "import matplotlib.pyplot as plt"
   ],
   "outputs": [],
   "metadata": {}
  },
  {
   "cell_type": "markdown",
   "source": [
    "Tensor is a kind of datastructure just like vector and matrics (list and dataframed/2D Lists).  \r\n",
    "They have a higher order and also many tensors have relation between them."
   ],
   "metadata": {}
  },
  {
   "cell_type": "markdown",
   "source": [
    "## Initialise Tensors"
   ],
   "metadata": {}
  },
  {
   "cell_type": "code",
   "execution_count": 52,
   "source": [
    "# Makes the tensors of the specified dimentions and fill them with ones\r\n",
    "x = torch.ones(3,2)\r\n",
    "print(x)\r\n",
    "\r\n",
    "# Makes the tensors of the specified dimentions and fill them with zeros\r\n",
    "x = torch.zeros(3, 2)\r\n",
    "print(x)\r\n",
    "\r\n",
    "# Makes the tensors of the specified dimentions and fill them with random numbers\r\n",
    "x = torch.rand(3, 2)\r\n",
    "print(x)"
   ],
   "outputs": [
    {
     "output_type": "stream",
     "name": "stdout",
     "text": [
      "tensor([[1., 1.],\n",
      "        [1., 1.],\n",
      "        [1., 1.]])\n",
      "tensor([[0., 0.],\n",
      "        [0., 0.],\n",
      "        [0., 0.]])\n",
      "tensor([[0.4660, 0.1237],\n",
      "        [0.7071, 0.2190],\n",
      "        [0.1821, 0.1275]])\n"
     ]
    }
   ],
   "metadata": {}
  },
  {
   "cell_type": "code",
   "execution_count": 53,
   "source": [
    "# Will create space for the dimentions spesified but will not initialise value in it\r\n",
    "x = torch.empty(3, 2)\r\n",
    "print(x)\r\n",
    "\r\n",
    "# if we want to give something the same shape as another tensor we can do that\r\n",
    "y = torch.zeros_like(x)\r\n",
    "print(y)"
   ],
   "outputs": [
    {
     "output_type": "stream",
     "name": "stdout",
     "text": [
      "tensor([[0., 0.],\n",
      "        [0., 0.],\n",
      "        [0., 0.]])\n",
      "tensor([[0., 0.],\n",
      "        [0., 0.],\n",
      "        [0., 0.]])\n"
     ]
    }
   ],
   "metadata": {}
  },
  {
   "cell_type": "code",
   "execution_count": 54,
   "source": [
    "# Create a linearspace start, end, steps - start and end are included\r\n",
    "x = torch.linspace(0, 1, steps=5)\r\n",
    "print(x)"
   ],
   "outputs": [
    {
     "output_type": "stream",
     "name": "stdout",
     "text": [
      "tensor([0.0000, 0.2500, 0.5000, 0.7500, 1.0000])\n"
     ]
    }
   ],
   "metadata": {}
  },
  {
   "cell_type": "code",
   "execution_count": 55,
   "source": [
    "# Manually defining the tensors\r\n",
    "x = torch.tensor([[1, 2], \r\n",
    "                 [3, 4], \r\n",
    "                 [5, 6]])\r\n",
    "print(x)"
   ],
   "outputs": [
    {
     "output_type": "stream",
     "name": "stdout",
     "text": [
      "tensor([[1, 2],\n",
      "        [3, 4],\n",
      "        [5, 6]])\n"
     ]
    }
   ],
   "metadata": {}
  },
  {
   "cell_type": "markdown",
   "source": [
    "## Slicing tensors"
   ],
   "metadata": {}
  },
  {
   "cell_type": "code",
   "execution_count": 56,
   "source": [
    "# Dimentions of the tensors are fiven insde a list\r\n",
    "print(x.size())\r\n",
    "\r\n",
    "# slicing[rows: column]\r\n",
    "# Take all rows and print the column of id 1\r\n",
    "print(x[:, 1]) \r\n",
    "# Take the 0th roaw and print all the column in that\r\n",
    "print(x[0, :])\r\n",
    "\r\n",
    "# All the rules for slicing in list apply to tensors as well"
   ],
   "outputs": [
    {
     "output_type": "stream",
     "name": "stdout",
     "text": [
      "torch.Size([3, 2])\n",
      "tensor([2, 4, 6])\n",
      "tensor([1, 2])\n"
     ]
    }
   ],
   "metadata": {}
  },
  {
   "cell_type": "code",
   "execution_count": 57,
   "source": [
    "# We are accessing a particular element from the x rows we are accessing the element in the \r\n",
    "# first row and first column, The data type of the element still remains tensor\r\n",
    "y = x[1, 1]\r\n",
    "print(y)\r\n",
    "# To change the data type of the element while accessing it from tensor to it's actual datatype.\r\n",
    "print(y.item())"
   ],
   "outputs": [
    {
     "output_type": "stream",
     "name": "stdout",
     "text": [
      "tensor(4)\n",
      "4\n"
     ]
    }
   ],
   "metadata": {}
  },
  {
   "cell_type": "markdown",
   "source": [
    "## Reshaping tensors"
   ],
   "metadata": {}
  },
  {
   "cell_type": "markdown",
   "source": [
    "Dimentions play a very important role in machine learning and we have to keep track of what we are multiplying with what when we are trying to do matrix multiplications and other operation that erquire the dimentions of the tensors to be correct"
   ],
   "metadata": {}
  },
  {
   "cell_type": "code",
   "execution_count": 58,
   "source": [
    "# To view the tensor in another dimentions we can use views - views(row, column)\r\n",
    "print(x)\r\n",
    "y = x.view(2, 3)\r\n",
    "print(y)"
   ],
   "outputs": [
    {
     "output_type": "stream",
     "name": "stdout",
     "text": [
      "tensor([[1, 2],\n",
      "        [3, 4],\n",
      "        [5, 6]])\n",
      "tensor([[1, 2, 3],\n",
      "        [4, 5, 6]])\n"
     ]
    }
   ],
   "metadata": {}
  },
  {
   "cell_type": "code",
   "execution_count": 59,
   "source": [
    "# We can reshape it when we know pnly one of the dimentions and \r\n",
    "# it will pick and appropriate number to put in the second dimention, to do that we have to fill -1 in\r\n",
    "# the dimention we do not know the number\r\n",
    "y = x.view(6,-1) \r\n",
    "print(y)"
   ],
   "outputs": [
    {
     "output_type": "stream",
     "name": "stdout",
     "text": [
      "tensor([[1],\n",
      "        [2],\n",
      "        [3],\n",
      "        [4],\n",
      "        [5],\n",
      "        [6]])\n"
     ]
    }
   ],
   "metadata": {}
  },
  {
   "cell_type": "markdown",
   "source": [
    "## Simple Tensor Operations"
   ],
   "metadata": {}
  },
  {
   "cell_type": "code",
   "execution_count": 60,
   "source": [
    "# Simple operations in Tesors\r\n",
    "x = torch.ones([3, 2])\r\n",
    "y = torch.ones([3, 2])\r\n",
    "z = x + y\r\n",
    "print(z)\r\n",
    "z = x - y\r\n",
    "print(z)\r\n",
    "z = x * y\r\n",
    "print(z)"
   ],
   "outputs": [
    {
     "output_type": "stream",
     "name": "stdout",
     "text": [
      "tensor([[2., 2.],\n",
      "        [2., 2.],\n",
      "        [2., 2.]])\n",
      "tensor([[0., 0.],\n",
      "        [0., 0.],\n",
      "        [0., 0.]])\n",
      "tensor([[1., 1.],\n",
      "        [1., 1.],\n",
      "        [1., 1.]])\n"
     ]
    }
   ],
   "metadata": {}
  },
  {
   "cell_type": "code",
   "execution_count": 61,
   "source": [
    "# z is being updated by adding x to y. Here y reamins the same and is not updated\r\n",
    "z = y.add(x)\r\n",
    "print(z)\r\n",
    "print(y)"
   ],
   "outputs": [
    {
     "output_type": "stream",
     "name": "stdout",
     "text": [
      "tensor([[2., 2.],\n",
      "        [2., 2.],\n",
      "        [2., 2.]])\n",
      "tensor([[1., 1.],\n",
      "        [1., 1.],\n",
      "        [1., 1.]])\n"
     ]
    }
   ],
   "metadata": {}
  },
  {
   "cell_type": "code",
   "execution_count": 62,
   "source": [
    "# Addition in place\r\n",
    "# We are taking y and then adding x to it and updating y in the process\r\n",
    "z = y.add_(x)\r\n",
    "print(z)\r\n",
    "print(y)"
   ],
   "outputs": [
    {
     "output_type": "stream",
     "name": "stdout",
     "text": [
      "tensor([[2., 2.],\n",
      "        [2., 2.],\n",
      "        [2., 2.]])\n",
      "tensor([[2., 2.],\n",
      "        [2., 2.],\n",
      "        [2., 2.]])\n"
     ]
    }
   ],
   "metadata": {}
  },
  {
   "cell_type": "markdown",
   "source": [
    "## Numpy <> PyTorch"
   ],
   "metadata": {}
  },
  {
   "cell_type": "code",
   "execution_count": 63,
   "source": [
    "# Interfacing Numpy and Pytorch\r\n",
    "\r\n",
    "# Converted tensor into numpy\r\n",
    "x_np = x.numpy()\r\n",
    "print(type(x), type(x_np))\r\n",
    "print(x_np)"
   ],
   "outputs": [
    {
     "output_type": "stream",
     "name": "stdout",
     "text": [
      "<class 'torch.Tensor'> <class 'numpy.ndarray'>\n",
      "[[1. 1.]\n",
      " [1. 1.]\n",
      " [1. 1.]]\n"
     ]
    }
   ],
   "metadata": {}
  },
  {
   "cell_type": "code",
   "execution_count": 64,
   "source": [
    "# Converting a numpy array into a tenors\r\n",
    "a = np.random.randn(5)\r\n",
    "print(a)\r\n",
    "a_pt = torch.from_numpy(a)\r\n",
    "print(type(a), type(a_pt))\r\n",
    "print(a_pt)\r\n",
    "# This is less of copying and more a bridge between the two as if we make changes into numpy,\r\n",
    "# it will be reflected in tensor"
   ],
   "outputs": [
    {
     "output_type": "stream",
     "name": "stdout",
     "text": [
      "[ 7.21339595e-01  1.17000033e-03  1.32080256e+00  5.33955438e-01\n",
      " -6.49709556e-02]\n",
      "<class 'numpy.ndarray'> <class 'torch.Tensor'>\n",
      "tensor([ 7.2134e-01,  1.1700e-03,  1.3208e+00,  5.3396e-01, -6.4971e-02],\n",
      "       dtype=torch.float64)\n"
     ]
    }
   ],
   "metadata": {}
  },
  {
   "cell_type": "code",
   "execution_count": 65,
   "source": [
    "np.add(a, 1, out=a)\r\n",
    "print(a)\r\n",
    "print(a_pt) "
   ],
   "outputs": [
    {
     "output_type": "stream",
     "name": "stdout",
     "text": [
      "[1.7213396  1.00117    2.32080256 1.53395544 0.93502904]\n",
      "tensor([1.7213, 1.0012, 2.3208, 1.5340, 0.9350], dtype=torch.float64)\n"
     ]
    }
   ],
   "metadata": {}
  },
  {
   "cell_type": "code",
   "execution_count": 66,
   "source": [
    "%%time\r\n",
    "# Checking the time taken to loop and add random numbers using numpy arrays\r\n",
    "for i in range(100):\r\n",
    "  a = np.random.randn(100,100) # (100,100) is the matrix size\r\n",
    "  b = np.random.randn(100,100)\r\n",
    "  c = np.matmul(a, b)"
   ],
   "outputs": [
    {
     "output_type": "stream",
     "name": "stdout",
     "text": [
      "Wall time: 74.8 ms\n"
     ]
    }
   ],
   "metadata": {}
  },
  {
   "cell_type": "code",
   "execution_count": 67,
   "source": [
    "%%time\r\n",
    "# Checking the time taken to loop and add random numbers using tensors\r\n",
    "for i in range(100):\r\n",
    "  a = torch.randn([100, 100])\r\n",
    "  b = torch.randn([100, 100])\r\n",
    "  c = torch.matmul(a, b)\r\n",
    "\r\n",
    "# Note we are still not using the GPU."
   ],
   "outputs": [
    {
     "output_type": "stream",
     "name": "stdout",
     "text": [
      "Wall time: 23.9 ms\n"
     ]
    }
   ],
   "metadata": {}
  },
  {
   "cell_type": "code",
   "execution_count": 68,
   "source": [
    "%%time\r\n",
    "for i in range(10):\r\n",
    "  a = np.random.randn(10000,10000)\r\n",
    "  b = np.random.randn(10000,10000)\r\n",
    "  c = a + b"
   ],
   "outputs": [
    {
     "output_type": "stream",
     "name": "stdout",
     "text": [
      "Wall time: 1min 38s\n"
     ]
    }
   ],
   "metadata": {}
  },
  {
   "cell_type": "code",
   "execution_count": 69,
   "source": [
    "%%time\r\n",
    "for i in range(10):\r\n",
    "  a = torch.randn([10000, 10000])\r\n",
    "  b = torch.randn([10000, 10000])\r\n",
    "  c = a + b"
   ],
   "outputs": [
    {
     "output_type": "stream",
     "name": "stdout",
     "text": [
      "Wall time: 30.8 s\n"
     ]
    }
   ],
   "metadata": {}
  },
  {
   "cell_type": "markdown",
   "source": [
    "## CUDA support"
   ],
   "metadata": {}
  },
  {
   "cell_type": "code",
   "execution_count": 71,
   "source": [
    "print(torch.cuda.device_count())"
   ],
   "outputs": [
    {
     "output_type": "stream",
     "name": "stdout",
     "text": [
      "1\n"
     ]
    }
   ],
   "metadata": {}
  },
  {
   "cell_type": "code",
   "execution_count": 72,
   "source": [
    "print(torch.cuda.device(0))\r\n",
    "print(torch.cuda.get_device_name(0))"
   ],
   "outputs": [
    {
     "output_type": "stream",
     "name": "stdout",
     "text": [
      "<torch.cuda.device object at 0x000002377BD6B280>\n",
      "NVIDIA GeForce MX150\n"
     ]
    }
   ],
   "metadata": {}
  }
 ],
 "metadata": {
  "orig_nbformat": 4,
  "language_info": {
   "name": "python"
  }
 },
 "nbformat": 4,
 "nbformat_minor": 2
}