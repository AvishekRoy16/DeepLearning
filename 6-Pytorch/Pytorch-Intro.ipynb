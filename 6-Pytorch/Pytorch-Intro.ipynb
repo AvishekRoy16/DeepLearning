{
  "nbformat": 4,
  "nbformat_minor": 0,
  "metadata": {
    "orig_nbformat": 4,
    "colab": {
      "name": "Pytorch-Intro.ipynb",
      "provenance": [],
      "include_colab_link": true
    },
    "accelerator": "GPU",
    "language_info": {
      "name": "python"
    },
    "kernelspec": {
      "name": "python3",
      "display_name": "Python 3"
    }
  },
  "cells": [
    {
      "cell_type": "markdown",
      "metadata": {
        "id": "view-in-github",
        "colab_type": "text"
      },
      "source": [
        "<a href=\"https://colab.research.google.com/github/AvishekRoy16/DeepLearning/blob/master/6-Pytorch/Pytorch-Intro.ipynb\" target=\"_parent\"><img src=\"https://colab.research.google.com/assets/colab-badge.svg\" alt=\"Open In Colab\"/></a>"
      ]
    },
    {
      "cell_type": "markdown",
      "metadata": {
        "id": "HtySi30GgbrI"
      },
      "source": [
        "## Outline\n",
        "* PyTorch\n",
        "* What are tensors\n",
        "* Initialising, slicing, reshaping tensors\n",
        "* Numpy and PyTorch interfacing\n",
        "* GPU support for PyTorch + Enabling GPUs on Google Colab\n",
        "* Speed comparisons, Numpy -- PyTorch -- PyTorch on GPU\n",
        "* Autodiff concepts and application\n",
        "* Writing a basic learning loop using autograd\n",
        "* Exercises"
      ]
    },
    {
      "cell_type": "code",
      "metadata": {
        "id": "iYnydU5PgbrL"
      },
      "source": [
        "import torch\n",
        "import numpy as np\n",
        "import matplotlib.pyplot as plt"
      ],
      "execution_count": 1,
      "outputs": []
    },
    {
      "cell_type": "markdown",
      "metadata": {
        "id": "ni7VI7pxgbrM"
      },
      "source": [
        "Tensor is a kind of datastructure just like vector and matrics (list and dataframed/2D Lists).  \n",
        "They have a higher order and also many tensors have relation between them."
      ]
    },
    {
      "cell_type": "markdown",
      "metadata": {
        "id": "2oY_1ymxgbrM"
      },
      "source": [
        "## Initialise Tensors"
      ]
    },
    {
      "cell_type": "code",
      "metadata": {
        "id": "YoXUuoSagbrN",
        "outputId": "435ffeb3-d7d9-4179-e4a0-dabc7b853883",
        "colab": {
          "base_uri": "https://localhost:8080/"
        }
      },
      "source": [
        "# Makes the tensors of the specified dimentions and fill them with ones\n",
        "x = torch.ones(3,2)\n",
        "print(x)\n",
        "\n",
        "# Makes the tensors of the specified dimentions and fill them with zeros\n",
        "x = torch.zeros(3, 2)\n",
        "print(x)\n",
        "\n",
        "# Makes the tensors of the specified dimentions and fill them with random numbers\n",
        "x = torch.rand(3, 2)\n",
        "print(x)"
      ],
      "execution_count": 2,
      "outputs": [
        {
          "output_type": "stream",
          "text": [
            "tensor([[1., 1.],\n",
            "        [1., 1.],\n",
            "        [1., 1.]])\n",
            "tensor([[0., 0.],\n",
            "        [0., 0.],\n",
            "        [0., 0.]])\n",
            "tensor([[0.7632, 0.6425],\n",
            "        [0.9921, 0.1632],\n",
            "        [0.4355, 0.0998]])\n"
          ],
          "name": "stdout"
        }
      ]
    },
    {
      "cell_type": "code",
      "metadata": {
        "id": "TPKx5FqJgbrO",
        "outputId": "501cc94f-6691-48c9-96d3-d7c40b427eb7",
        "colab": {
          "base_uri": "https://localhost:8080/"
        }
      },
      "source": [
        "# Will create space for the dimentions spesified but will not initialise value in it\n",
        "x = torch.empty(3, 2)\n",
        "print(x)\n",
        "\n",
        "# if we want to give something the same shape as another tensor we can do that\n",
        "y = torch.zeros_like(x)\n",
        "print(y)"
      ],
      "execution_count": 3,
      "outputs": [
        {
          "output_type": "stream",
          "text": [
            "tensor([[1.1740e-31, 3.0623e-41],\n",
            "        [3.3631e-44, 0.0000e+00],\n",
            "        [       nan, 1.0000e+00]])\n",
            "tensor([[0., 0.],\n",
            "        [0., 0.],\n",
            "        [0., 0.]])\n"
          ],
          "name": "stdout"
        }
      ]
    },
    {
      "cell_type": "code",
      "metadata": {
        "id": "Z7mi4o1qgbrO",
        "outputId": "56758f09-8b02-4d1c-f687-32fe416d265a",
        "colab": {
          "base_uri": "https://localhost:8080/"
        }
      },
      "source": [
        "# Create a linearspace start, end, steps - start and end are included\n",
        "x = torch.linspace(0, 1, steps=5)\n",
        "print(x)"
      ],
      "execution_count": 4,
      "outputs": [
        {
          "output_type": "stream",
          "text": [
            "tensor([0.0000, 0.2500, 0.5000, 0.7500, 1.0000])\n"
          ],
          "name": "stdout"
        }
      ]
    },
    {
      "cell_type": "code",
      "metadata": {
        "id": "kr_6XnjWgbrP",
        "outputId": "256d04a9-b411-4b11-9cc4-7748a50f3a64",
        "colab": {
          "base_uri": "https://localhost:8080/"
        }
      },
      "source": [
        "# Manually defining the tensors\n",
        "x = torch.tensor([[1, 2], \n",
        "                 [3, 4], \n",
        "                 [5, 6]])\n",
        "print(x)"
      ],
      "execution_count": 5,
      "outputs": [
        {
          "output_type": "stream",
          "text": [
            "tensor([[1, 2],\n",
            "        [3, 4],\n",
            "        [5, 6]])\n"
          ],
          "name": "stdout"
        }
      ]
    },
    {
      "cell_type": "markdown",
      "metadata": {
        "id": "1otPOhIFgbrP"
      },
      "source": [
        "## Slicing tensors"
      ]
    },
    {
      "cell_type": "code",
      "metadata": {
        "id": "YsArFExkgbrP",
        "outputId": "f23f28d1-cc5d-46ae-8be7-6333b573d5f2",
        "colab": {
          "base_uri": "https://localhost:8080/"
        }
      },
      "source": [
        "# Dimentions of the tensors are fiven insde a list\n",
        "print(x.size())\n",
        "\n",
        "# slicing[rows: column]\n",
        "# Take all rows and print the column of id 1\n",
        "print(x[:, 1]) \n",
        "# Take the 0th roaw and print all the column in that\n",
        "print(x[0, :])\n",
        "\n",
        "# All the rules for slicing in list apply to tensors as well"
      ],
      "execution_count": 6,
      "outputs": [
        {
          "output_type": "stream",
          "text": [
            "torch.Size([3, 2])\n",
            "tensor([2, 4, 6])\n",
            "tensor([1, 2])\n"
          ],
          "name": "stdout"
        }
      ]
    },
    {
      "cell_type": "code",
      "metadata": {
        "id": "nfESHD8zgbrQ",
        "outputId": "5c848105-cefc-4065-bb4c-dcafcac9f8f1",
        "colab": {
          "base_uri": "https://localhost:8080/"
        }
      },
      "source": [
        "# We are accessing a particular element from the x rows we are accessing the element in the \n",
        "# first row and first column, The data type of the element still remains tensor\n",
        "y = x[1, 1]\n",
        "print(y)\n",
        "# To change the data type of the element while accessing it from tensor to it's actual datatype.\n",
        "print(y.item())"
      ],
      "execution_count": 7,
      "outputs": [
        {
          "output_type": "stream",
          "text": [
            "tensor(4)\n",
            "4\n"
          ],
          "name": "stdout"
        }
      ]
    },
    {
      "cell_type": "markdown",
      "metadata": {
        "id": "nThWGrldgbrQ"
      },
      "source": [
        "## Reshaping tensors"
      ]
    },
    {
      "cell_type": "markdown",
      "metadata": {
        "id": "TXQqniG4gbrQ"
      },
      "source": [
        "Dimentions play a very important role in machine learning and we have to keep track of what we are multiplying with what when we are trying to do matrix multiplications and other operation that erquire the dimentions of the tensors to be correct"
      ]
    },
    {
      "cell_type": "code",
      "metadata": {
        "id": "AwE1UVZ6gbrR",
        "outputId": "4e58813c-03c7-4f60-ed23-f56876779577",
        "colab": {
          "base_uri": "https://localhost:8080/"
        }
      },
      "source": [
        "# To view the tensor in another dimentions we can use views - views(row, column)\n",
        "print(x)\n",
        "y = x.view(2, 3)\n",
        "print(y)"
      ],
      "execution_count": 8,
      "outputs": [
        {
          "output_type": "stream",
          "text": [
            "tensor([[1, 2],\n",
            "        [3, 4],\n",
            "        [5, 6]])\n",
            "tensor([[1, 2, 3],\n",
            "        [4, 5, 6]])\n"
          ],
          "name": "stdout"
        }
      ]
    },
    {
      "cell_type": "code",
      "metadata": {
        "id": "B5j7_-xSgbrR",
        "outputId": "5b925eda-ac18-4a04-c77c-f406a49ff875",
        "colab": {
          "base_uri": "https://localhost:8080/"
        }
      },
      "source": [
        "# We can reshape it when we know pnly one of the dimentions and \n",
        "# it will pick and appropriate number to put in the second dimention, to do that we have to fill -1 in\n",
        "# the dimention we do not know the number\n",
        "y = x.view(6,-1) \n",
        "print(y)"
      ],
      "execution_count": 9,
      "outputs": [
        {
          "output_type": "stream",
          "text": [
            "tensor([[1],\n",
            "        [2],\n",
            "        [3],\n",
            "        [4],\n",
            "        [5],\n",
            "        [6]])\n"
          ],
          "name": "stdout"
        }
      ]
    },
    {
      "cell_type": "markdown",
      "metadata": {
        "id": "aZMmypxUgbrR"
      },
      "source": [
        "## Simple Tensor Operations"
      ]
    },
    {
      "cell_type": "code",
      "metadata": {
        "id": "lScJTCgOgbrS",
        "outputId": "ae4b9f10-9b87-41cf-858e-0fa40e739f69",
        "colab": {
          "base_uri": "https://localhost:8080/"
        }
      },
      "source": [
        "# Simple operations in Tesors\n",
        "x = torch.ones([3, 2])\n",
        "y = torch.ones([3, 2])\n",
        "z = x + y\n",
        "print(z)\n",
        "z = x - y\n",
        "print(z)\n",
        "z = x * y\n",
        "print(z)"
      ],
      "execution_count": 10,
      "outputs": [
        {
          "output_type": "stream",
          "text": [
            "tensor([[2., 2.],\n",
            "        [2., 2.],\n",
            "        [2., 2.]])\n",
            "tensor([[0., 0.],\n",
            "        [0., 0.],\n",
            "        [0., 0.]])\n",
            "tensor([[1., 1.],\n",
            "        [1., 1.],\n",
            "        [1., 1.]])\n"
          ],
          "name": "stdout"
        }
      ]
    },
    {
      "cell_type": "code",
      "metadata": {
        "id": "CvUERtHhgbrS",
        "outputId": "3cf980d2-d678-434c-f71d-d6a2ca1778a7",
        "colab": {
          "base_uri": "https://localhost:8080/"
        }
      },
      "source": [
        "# z is being updated by adding x to y. Here y reamins the same and is not updated\n",
        "z = y.add(x)\n",
        "print(z)\n",
        "print(y)"
      ],
      "execution_count": 11,
      "outputs": [
        {
          "output_type": "stream",
          "text": [
            "tensor([[2., 2.],\n",
            "        [2., 2.],\n",
            "        [2., 2.]])\n",
            "tensor([[1., 1.],\n",
            "        [1., 1.],\n",
            "        [1., 1.]])\n"
          ],
          "name": "stdout"
        }
      ]
    },
    {
      "cell_type": "code",
      "metadata": {
        "id": "TfBxDzFngbrS",
        "outputId": "61d9e148-8c95-4e84-f578-a4bcaed8015c",
        "colab": {
          "base_uri": "https://localhost:8080/"
        }
      },
      "source": [
        "# Addition in place\n",
        "# We are taking y and then adding x to it and updating y in the process\n",
        "z = y.add_(x)\n",
        "print(z)\n",
        "print(y)"
      ],
      "execution_count": 12,
      "outputs": [
        {
          "output_type": "stream",
          "text": [
            "tensor([[2., 2.],\n",
            "        [2., 2.],\n",
            "        [2., 2.]])\n",
            "tensor([[2., 2.],\n",
            "        [2., 2.],\n",
            "        [2., 2.]])\n"
          ],
          "name": "stdout"
        }
      ]
    },
    {
      "cell_type": "markdown",
      "metadata": {
        "id": "aeSaKPA8gbrT"
      },
      "source": [
        "## Numpy <> PyTorch"
      ]
    },
    {
      "cell_type": "code",
      "metadata": {
        "id": "b30q1y8vgbrT",
        "outputId": "e238f250-4a0d-4e3d-def6-0110b17e82fd",
        "colab": {
          "base_uri": "https://localhost:8080/"
        }
      },
      "source": [
        "# Interfacing Numpy and Pytorch\n",
        "\n",
        "# Converted tensor into numpy\n",
        "x_np = x.numpy()\n",
        "print(type(x), type(x_np))\n",
        "print(x_np)"
      ],
      "execution_count": 13,
      "outputs": [
        {
          "output_type": "stream",
          "text": [
            "<class 'torch.Tensor'> <class 'numpy.ndarray'>\n",
            "[[1. 1.]\n",
            " [1. 1.]\n",
            " [1. 1.]]\n"
          ],
          "name": "stdout"
        }
      ]
    },
    {
      "cell_type": "code",
      "metadata": {
        "id": "TZo-GqLFgbrT",
        "outputId": "d5061d50-c565-40a8-a995-1d285cffa22e",
        "colab": {
          "base_uri": "https://localhost:8080/"
        }
      },
      "source": [
        "# Converting a numpy array into a tenors\n",
        "a = np.random.randn(5)\n",
        "print(a)\n",
        "a_pt = torch.from_numpy(a)\n",
        "print(type(a), type(a_pt))\n",
        "print(a_pt)\n",
        "# This is less of copying and more a bridge between the two as if we make changes into numpy,\n",
        "# it will be reflected in tensor"
      ],
      "execution_count": 14,
      "outputs": [
        {
          "output_type": "stream",
          "text": [
            "[-1.11047444  1.07419917 -0.16028816 -0.70958037 -0.77380597]\n",
            "<class 'numpy.ndarray'> <class 'torch.Tensor'>\n",
            "tensor([-1.1105,  1.0742, -0.1603, -0.7096, -0.7738], dtype=torch.float64)\n"
          ],
          "name": "stdout"
        }
      ]
    },
    {
      "cell_type": "code",
      "metadata": {
        "id": "89pH6iatgbrU",
        "outputId": "e1ba7f07-adae-4fbc-be90-7a050151617b",
        "colab": {
          "base_uri": "https://localhost:8080/"
        }
      },
      "source": [
        "np.add(a, 1, out=a)\n",
        "print(a)\n",
        "print(a_pt) "
      ],
      "execution_count": 15,
      "outputs": [
        {
          "output_type": "stream",
          "text": [
            "[-0.11047444  2.07419917  0.83971184  0.29041963  0.22619403]\n",
            "tensor([-0.1105,  2.0742,  0.8397,  0.2904,  0.2262], dtype=torch.float64)\n"
          ],
          "name": "stdout"
        }
      ]
    },
    {
      "cell_type": "code",
      "metadata": {
        "id": "ARMKGnbbgbrU",
        "outputId": "d2fbf641-7df1-4790-c333-7f1e45254fa0",
        "colab": {
          "base_uri": "https://localhost:8080/"
        }
      },
      "source": [
        "%%time\n",
        "# Checking the time taken to loop and add random numbers using numpy arrays\n",
        "for i in range(100):\n",
        "  a = np.random.randn(100,100) # (100,100) is the matrix size\n",
        "  b = np.random.randn(100,100)\n",
        "  c = np.matmul(a, b)"
      ],
      "execution_count": 16,
      "outputs": [
        {
          "output_type": "stream",
          "text": [
            "CPU times: user 147 ms, sys: 100 ms, total: 247 ms\n",
            "Wall time: 130 ms\n"
          ],
          "name": "stdout"
        }
      ]
    },
    {
      "cell_type": "code",
      "metadata": {
        "id": "VqUpIHOogbrU",
        "outputId": "4ff209a4-74df-40b9-b785-6fe5bba61647",
        "colab": {
          "base_uri": "https://localhost:8080/"
        }
      },
      "source": [
        "%%time\n",
        "# Checking the time taken to loop and add random numbers using tensors\n",
        "for i in range(100):\n",
        "  a = torch.randn([100, 100])\n",
        "  b = torch.randn([100, 100])\n",
        "  c = torch.matmul(a, b)\n",
        "\n",
        "# Note we are still not using the GPU."
      ],
      "execution_count": 17,
      "outputs": [
        {
          "output_type": "stream",
          "text": [
            "CPU times: user 35.3 ms, sys: 64.7 ms, total: 100 ms\n",
            "Wall time: 67.7 ms\n"
          ],
          "name": "stdout"
        }
      ]
    },
    {
      "cell_type": "code",
      "metadata": {
        "id": "seHZ5m6DgbrU",
        "outputId": "0b4ecbb7-d71e-484f-962a-3eb68920c659",
        "colab": {
          "base_uri": "https://localhost:8080/"
        }
      },
      "source": [
        "%%time\n",
        "for i in range(10):\n",
        "  a = np.random.randn(10000,10000)\n",
        "  b = np.random.randn(10000,10000)\n",
        "  c = a + b"
      ],
      "execution_count": 18,
      "outputs": [
        {
          "output_type": "stream",
          "text": [
            "CPU times: user 1min 19s, sys: 651 ms, total: 1min 20s\n",
            "Wall time: 1min 19s\n"
          ],
          "name": "stdout"
        }
      ]
    },
    {
      "cell_type": "code",
      "metadata": {
        "id": "GjFREOFhgbrV",
        "outputId": "008d9146-40a0-479b-8979-ba05984e5c8f",
        "colab": {
          "base_uri": "https://localhost:8080/"
        }
      },
      "source": [
        "%%time\n",
        "for i in range(10):\n",
        "  a = torch.randn([10000, 10000])\n",
        "  b = torch.randn([10000, 10000])\n",
        "  c = a + b"
      ],
      "execution_count": 19,
      "outputs": [
        {
          "output_type": "stream",
          "text": [
            "CPU times: user 14.3 s, sys: 15.8 ms, total: 14.3 s\n",
            "Wall time: 14.2 s\n"
          ],
          "name": "stdout"
        }
      ]
    },
    {
      "cell_type": "markdown",
      "metadata": {
        "id": "d7M80mg7gbrV"
      },
      "source": [
        "## CUDA support"
      ]
    },
    {
      "cell_type": "code",
      "metadata": {
        "id": "2C00MB94gbrV",
        "outputId": "b7d8896f-1874-4a2c-bf07-ffeb479b2292",
        "colab": {
          "base_uri": "https://localhost:8080/"
        }
      },
      "source": [
        "print(torch.cuda.device_count())"
      ],
      "execution_count": 20,
      "outputs": [
        {
          "output_type": "stream",
          "text": [
            "1\n"
          ],
          "name": "stdout"
        }
      ]
    },
    {
      "cell_type": "code",
      "metadata": {
        "id": "1Uy6MkvTgbrW",
        "outputId": "7974da2a-2ba4-4b5f-926d-2c79b361705c",
        "colab": {
          "base_uri": "https://localhost:8080/"
        }
      },
      "source": [
        "print(torch.cuda.device(0))\n",
        "print(torch.cuda.get_device_name(0))"
      ],
      "execution_count": 21,
      "outputs": [
        {
          "output_type": "stream",
          "text": [
            "<torch.cuda.device object at 0x7f05b60e2ad0>\n",
            "Tesla T4\n"
          ],
          "name": "stdout"
        }
      ]
    }
  ]
}