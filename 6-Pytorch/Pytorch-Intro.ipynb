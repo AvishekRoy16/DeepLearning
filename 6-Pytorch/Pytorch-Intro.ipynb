{
 "cells": [
  {
   "cell_type": "markdown",
   "source": [
    "## Outline\r\n",
    "* PyTorch\r\n",
    "* What are tensors\r\n",
    "* Initialising, slicing, reshaping tensors\r\n",
    "* Numpy and PyTorch interfacing\r\n",
    "* GPU support for PyTorch + Enabling GPUs on Google Colab\r\n",
    "* Speed comparisons, Numpy -- PyTorch -- PyTorch on GPU\r\n",
    "* Autodiff concepts and application\r\n",
    "* Writing a basic learning loop using autograd\r\n",
    "* Exercises"
   ],
   "metadata": {}
  },
  {
   "cell_type": "code",
   "execution_count": 1,
   "source": [
    "import torch\r\n",
    "import numpy as np\r\n",
    "import matplotlib.pyplot as plt"
   ],
   "outputs": [],
   "metadata": {}
  },
  {
   "cell_type": "markdown",
   "source": [
    "Tensor is a kind of datastructure just like vector and matrics (list and dataframed/2D Lists).  \r\n",
    "They have a higher order and also many tensors have relation between them."
   ],
   "metadata": {}
  },
  {
   "cell_type": "markdown",
   "source": [
    "## Initialise Tensors"
   ],
   "metadata": {}
  },
  {
   "cell_type": "code",
   "execution_count": 5,
   "source": [
    "# Makes the tensors of the specified dimentions and fill them with ones\r\n",
    "x = torch.ones(3,2)\r\n",
    "print(x)\r\n",
    "\r\n",
    "# Makes the tensors of the specified dimentions and fill them with zeros\r\n",
    "x = torch.zeros(3, 2)\r\n",
    "print(x)\r\n",
    "\r\n",
    "# Makes the tensors of the specified dimentions and fill them with random numbers\r\n",
    "x = torch.rand(3, 2)\r\n",
    "print(x)"
   ],
   "outputs": [
    {
     "output_type": "stream",
     "name": "stdout",
     "text": [
      "tensor([[1., 1.],\n",
      "        [1., 1.],\n",
      "        [1., 1.]])\n",
      "tensor([[0., 0.],\n",
      "        [0., 0.],\n",
      "        [0., 0.]])\n",
      "tensor([[0.3406, 0.9134],\n",
      "        [0.8524, 0.1633],\n",
      "        [0.8286, 0.3348]])\n"
     ]
    }
   ],
   "metadata": {}
  },
  {
   "cell_type": "code",
   "execution_count": 6,
   "source": [
    "# Will create space for the dimentions spesified but will not initialise value in it\r\n",
    "x = torch.empty(3, 2)\r\n",
    "print(x)\r\n",
    "\r\n",
    "# if we want to give something the same shape as another tensor we can do that\r\n",
    "y = torch.zeros_like(x)\r\n",
    "print(y)"
   ],
   "outputs": [
    {
     "output_type": "stream",
     "name": "stdout",
     "text": [
      "tensor([[1.7564e-04, 4.1300e-05],\n",
      "        [2.6562e+20, 1.6852e+22],\n",
      "        [4.2114e-11, 7.1450e+31]])\n",
      "tensor([[0., 0.],\n",
      "        [0., 0.],\n",
      "        [0., 0.]])\n"
     ]
    }
   ],
   "metadata": {}
  },
  {
   "cell_type": "code",
   "execution_count": 7,
   "source": [
    "# Create a linearspace start, end, steps - start and end are included\r\n",
    "x = torch.linspace(0, 1, steps=5)\r\n",
    "print(x)"
   ],
   "outputs": [
    {
     "output_type": "stream",
     "name": "stdout",
     "text": [
      "tensor([0.0000, 0.2500, 0.5000, 0.7500, 1.0000])\n"
     ]
    }
   ],
   "metadata": {}
  },
  {
   "cell_type": "code",
   "execution_count": 9,
   "source": [
    "# Manually defining the tensors\r\n",
    "x = torch.tensor([[1, 2], \r\n",
    "                 [3, 4], \r\n",
    "                 [5, 6]])\r\n",
    "print(x)"
   ],
   "outputs": [
    {
     "output_type": "stream",
     "name": "stdout",
     "text": [
      "tensor([[1, 2],\n",
      "        [3, 4],\n",
      "        [5, 6]])\n"
     ]
    }
   ],
   "metadata": {}
  }
 ],
 "metadata": {
  "orig_nbformat": 4,
  "language_info": {
   "name": "python"
  }
 },
 "nbformat": 4,
 "nbformat_minor": 2
}