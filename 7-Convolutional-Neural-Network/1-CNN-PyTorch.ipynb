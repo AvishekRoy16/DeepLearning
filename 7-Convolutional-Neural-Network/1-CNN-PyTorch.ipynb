{
 "cells": [
  {
   "cell_type": "markdown",
   "source": [
    "## Outline\r\n",
    "\r\n",
    "* Downloading dataset (CIFAR10)\r\n",
    "* `Dataloader` in `torch.utils`\r\n",
    "* Visualising images\r\n",
    "* Single and multiple convolutional layers\r\n",
    "* LeNet\r\n",
    "* Training LeNet\r\n",
    "* Training on GPU\r\n",
    "* Simple visualisation\r\n",
    "* Exercises"
   ],
   "metadata": {}
  },
  {
   "cell_type": "code",
   "execution_count": 1,
   "source": [
    "import torch\r\n",
    "import matplotlib.pyplot as plt\r\n",
    "import numpy as np"
   ],
   "outputs": [],
   "metadata": {}
  },
  {
   "cell_type": "markdown",
   "source": [
    "## Data loading"
   ],
   "metadata": {}
  },
  {
   "cell_type": "code",
   "execution_count": 2,
   "source": [
    "# Used for loding datasets\r\n",
    "import torchvision\r\n",
    "import torchvision.transforms as transforms\r\n",
    "\r\n",
    "#torchvision.datasets.CIFAR10 tells wehre to download it from, root tells the location of where to store,\r\n",
    "# download=True tells to download it localy and not work with it remotely, \r\n",
    "# transforms will apply some transformation function when we are downloading the data itself(Here we are transforming them to tensors)\r\n",
    "trainset = torchvision.datasets.CIFAR10(root='./data', train=True, \r\n",
    "                                        download=True, \r\n",
    "                                        transform=transforms.ToTensor())\r\n",
    "\r\n",
    "# CIFAR10 dataset - https://www.cs.toronto.edu/~kriz/cifar.html. It has 60000 32X32 coloured images. \r\n",
    "# The images are classified into 3 classes \r\n",
    "# They are divided into 5 training batches, each containing 10000 images, and there is a test batch"
   ],
   "outputs": [
    {
     "output_type": "stream",
     "name": "stdout",
     "text": [
      "Files already downloaded and verified\n"
     ]
    }
   ],
   "metadata": {}
  },
  {
   "cell_type": "code",
   "execution_count": 3,
   "source": [
    "# These are the classes as mentioned and declared by us, obiously the dataset will have these lables already. \r\n",
    "# The name of the classes may differ on what I have defined here and the original lables\r\n",
    "classes = ('plane', 'car', 'bird', 'cat', 'deer', 'dog', 'frog', 'horse', 'ship', 'truck')"
   ],
   "outputs": [],
   "metadata": {}
  },
  {
   "cell_type": "code",
   "execution_count": 4,
   "source": [
    "# As we now have the dataset loaded into the variable trainset, we can now load data from it in certain batch size, \r\n",
    "# shuffle true means 4 images will be given randomly\r\n",
    "# We are not loding it just now this is just the datastructure ready\r\n",
    "trainloader = torch.utils.data.DataLoader(trainset, batch_size=4, shuffle=True)"
   ],
   "outputs": [],
   "metadata": {}
  },
  {
   "cell_type": "code",
   "execution_count": 5,
   "source": [
    "# To access the trainloader variable dataset we created, \r\n",
    "# the way to do that is to create an itereator using 'iter' and storing it into variable dataiter\r\n",
    "dataiter = iter(trainloader)\r\n",
    "# dataiter.next() give one instance of 4 images and thier corrsponding lable from the dataset, which we have stored in the variable 'images' and 'lable'\r\n",
    "images, labels = dataiter.next()\r\n",
    "\r\n",
    "print(images.shape)\r\n",
    "# The output [4, 3, 32, 32] says the batch size is 4, 3 channels RGB, 32 X 32 size image\r\n",
    "\r\n",
    "print(images[0].shape)\r\n",
    "# This shows that the the 2nd item has 3 channels of size 32X32\r\n",
    "print(labels[0].item())\r\n",
    "# This shows the label as in here it shows 3 which corresponds to 'cat'"
   ],
   "outputs": [
    {
     "output_type": "stream",
     "name": "stdout",
     "text": [
      "torch.Size([4, 3, 32, 32])\n",
      "torch.Size([3, 32, 32])\n",
      "9\n"
     ]
    }
   ],
   "metadata": {}
  },
  {
   "cell_type": "markdown",
   "source": [
    "## Visualise data"
   ],
   "metadata": {}
  },
  {
   "cell_type": "code",
   "execution_count": 6,
   "source": [
    "img = images[0]\r\n",
    "print(type(img))"
   ],
   "outputs": [
    {
     "output_type": "stream",
     "name": "stdout",
     "text": [
      "<class 'torch.Tensor'>\n"
     ]
    }
   ],
   "metadata": {}
  },
  {
   "cell_type": "code",
   "execution_count": 7,
   "source": [
    "# Converting tensor into numpy\r\n",
    "npimg = img.numpy()\r\n",
    "print(npimg.shape)"
   ],
   "outputs": [
    {
     "output_type": "stream",
     "name": "stdout",
     "text": [
      "(3, 32, 32)\n"
     ]
    }
   ],
   "metadata": {}
  },
  {
   "cell_type": "code",
   "execution_count": 8,
   "source": [
    "# For a higher dimentional matrix transpose means any permutation of the different axis\r\n",
    "# We are doing this because we need it in the order of x,y,z where z corresponds to the 3 channels RGB\r\n",
    "npimg = np.transpose(npimg, (1, 2, 0)) # So the first index is 1st - 32 2nd - 32 3rd - 3\r\n",
    "print(npimg.shape)"
   ],
   "outputs": [
    {
     "output_type": "stream",
     "name": "stdout",
     "text": [
      "(32, 32, 3)\n"
     ]
    }
   ],
   "metadata": {}
  },
  {
   "cell_type": "code",
   "execution_count": 9,
   "source": [
    "plt.figure(figsize = (1,1))\r\n",
    "# imshow is image plotting in matplotlib\r\n",
    "plt.imshow(npimg)\r\n",
    "plt.show()\r\n",
    "# As we can see the lable 0 corresponded to class 9 which was a truck, and the image is of a truck."
   ],
   "outputs": [
    {
     "output_type": "display_data",
     "data": {
      "image/png": "[encoded data removed]",
      "text/plain": [
       "<Figure size 72x72 with 1 Axes>"
      ]
     },
     "metadata": {
      "needs_background": "light"
     }
    }
   ],
   "metadata": {}
  },
  {
   "cell_type": "code",
   "execution_count": 10,
   "source": [
    "# This funciton does all of what the above lines does i.e.\r\n",
    "# takinga given tensor, converting it to numpy, transposing it and then plotting it\r\n",
    "def imshow(img):\r\n",
    "    npimg = img.numpy()\r\n",
    "    plt.imshow(np.transpose(npimg, (1, 2, 0)))\r\n",
    "    plt.show()"
   ],
   "outputs": [],
   "metadata": {}
  },
  {
   "cell_type": "code",
   "execution_count": 11,
   "source": [
    "# We are using the utils of torchvision some variable called make grid and we give them the images tensor that we created in the last cell of data loding\r\n",
    "# We give that to the imshow function and we get a grid of images   \r\n",
    "imshow(torchvision.utils.make_grid(images))\r\n",
    "# We are also printing the corresponding classes to the images\r\n",
    "print(' '.join(classes[labels[j]] for j in range(4)))   "
   ],
   "outputs": [
    {
     "output_type": "display_data",
     "data": {
      "image/png": "[encoded data removed]",
      "text/plain": [
       "<Figure size 432x288 with 1 Axes>"
      ]
     },
     "metadata": {
      "needs_background": "light"
     }
    },
    {
     "output_type": "stream",
     "name": "stdout",
     "text": [
      "truck ship bird deer\n"
     ]
    }
   ],
   "metadata": {}
  },
  {
   "cell_type": "markdown",
   "source": [
    "## Single Convolutional Layer"
   ],
   "metadata": {}
  },
  {
   "cell_type": "code",
   "execution_count": 12,
   "source": [
    "# here we are just taking inputs (images in this case) have a single convolution layer and come out with a output\r\n",
    "# mimporting torch.nn library\r\n",
    "import torch.nn as nn\r\n",
    "# We use nn.Module from which our class inherits, we saw this in the Intro to PyTorch\r\n",
    "class FirstCNN(nn.Module):\r\n",
    "    def __init__(self): \r\n",
    "        # init of the parent class\r\n",
    "        super(FirstCNN, self).__init__()\r\n",
    "        # Althouh the tenson in our case is 4D (batch, channels RGB,2 more dimention of X and Y size),\r\n",
    "        # The convolution operation that we are applying is 2D, because the kernal tranlated in 2D (studied in theory)\r\n",
    "        # nn.Conv2d first takes the no. of channels(input channle), second takes the no of output channels, third kernal of size 3\r\n",
    "        self.conv1 = nn.Conv2d(3, 16, 3, padding=(1,1), stride=(2,2)) # padding=(1,1), stride=(2,2))\r\n",
    "        # 16 different kernals are going through the image and output one channel each\r\n",
    "\r\n",
    "    # Then defining the forward pass, taking x an input\r\n",
    "    def forward(self, x):\r\n",
    "        # on the given inpu we are applying conv1 function we defined above and return the value\r\n",
    "        x = self.conv1(x)\r\n",
    "        return x"
   ],
   "outputs": [],
   "metadata": {}
  },
  {
   "cell_type": "code",
   "execution_count": 13,
   "source": [
    "# Instantiation\r\n",
    "net = FirstCNN()"
   ],
   "outputs": [],
   "metadata": {}
  },
  {
   "cell_type": "code",
   "execution_count": 14,
   "source": [
    "out = net(images)\r\n",
    "out.shape\r\n",
    "# shape of the output\r\n",
    "# [4,16,16,16] here 4 corresponds to the back size , 16 corresponds to the number of output channels then the image size, \r\n",
    "# the next16 and 16 corresponds to "
   ],
   "outputs": [
    {
     "output_type": "execute_result",
     "data": {
      "text/plain": [
       "torch.Size([4, 16, 16, 16])"
      ]
     },
     "metadata": {},
     "execution_count": 14
    }
   ],
   "metadata": {}
  },
  {
   "cell_type": "code",
   "execution_count": 15,
   "source": [
    "# There are a bunch of parameter which are automatically created when we do nn.conv2D\r\n",
    "for param in net.parameters():\r\n",
    "    print(param.shape)\r\n",
    "\r\n",
    "# We have 16 kernals, each of size 3 (channel size), the next 3,3 is the kernal size these are the weights\r\n",
    "# The the second one is the bias"
   ],
   "outputs": [
    {
     "output_type": "stream",
     "name": "stdout",
     "text": [
      "torch.Size([16, 3, 3, 3])\n",
      "torch.Size([16])\n"
     ]
    }
   ],
   "metadata": {}
  },
  {
   "cell_type": "code",
   "execution_count": 16,
   "source": [
    "# We are taking one channel of the 16x16\r\n",
    "# For the 0th batch, 0th channel (out of the give 16), all the 16 * 16 values (detach to make numpy array)\r\n",
    "out1 = out[0, 0, :, :].detach().numpy()\r\n",
    "print(out1.shape)"
   ],
   "outputs": [
    {
     "output_type": "stream",
     "name": "stdout",
     "text": [
      "(16, 16)\n"
     ]
    }
   ],
   "metadata": {}
  },
  {
   "cell_type": "code",
   "execution_count": 17,
   "source": [
    "# plotting the detached numpy array\r\n",
    "plt.imshow(out[0, 0, :, :].detach().numpy())\r\n",
    "plt.show()"
   ],
   "outputs": [
    {
     "output_type": "display_data",
     "data": {
      "image/png": "[encoded data removed]",
      "text/plain": [
       "<Figure size 432x288 with 1 Axes>"
      ]
     },
     "metadata": {
      "needs_background": "light"
     }
    }
   ],
   "metadata": {}
  },
  {
   "cell_type": "markdown",
   "source": [
    "Question  \r\n",
    "What are the dimensions of the output obtained when applying nn.Conv2d(3, 23, 5, padding=(1,1), stride=(2,2)) to any CIFAR10 image  \r\n",
    "(23,15,15)"
   ],
   "metadata": {}
  },
  {
   "cell_type": "markdown",
   "source": [
    "## Deep Convolutional Network"
   ],
   "metadata": {}
  },
  {
   "cell_type": "code",
   "execution_count": 18,
   "source": [
    "class FirstCNN_v2(nn.Module):\r\n",
    "    def __init__(self): \r\n",
    "        super(FirstCNN_v2, self).__init__()\r\n",
    "        # We are using sequential here in which we can stack up multiple transforms\r\n",
    "        self.model = nn.Sequential(\r\n",
    "            #3 input channels, 8 output channels, 3*3 kernal\r\n",
    "            nn.Conv2d(3, 8, 3),   # (N, 3, 32, 32) -> (N, 8, 30, 30)\r\n",
    "            # As we have 8 as an output of the first transform, hence input will have 8 channels, \r\n",
    "            # 16 output channels and 3*3 kernal\r\n",
    "            nn.Conv2d(8, 16, 3)   # (N, 8, 30, 30) -> (N, 16, 28, 28)\r\n",
    "        )\r\n",
    "        \r\n",
    "    def forward(self, x):\r\n",
    "        x = self.model(x)\r\n",
    "        return x"
   ],
   "outputs": [],
   "metadata": {}
  },
  {
   "cell_type": "code",
   "execution_count": 19,
   "source": [
    "net = FirstCNN_v2()\r\n",
    "out = net(images)\r\n",
    "out.shape"
   ],
   "outputs": [
    {
     "output_type": "execute_result",
     "data": {
      "text/plain": [
       "torch.Size([4, 16, 28, 28])"
      ]
     },
     "metadata": {},
     "execution_count": 19
    }
   ],
   "metadata": {}
  },
  {
   "cell_type": "code",
   "execution_count": 20,
   "source": [
    "plt.imshow(out[0, 0, :, :].detach().numpy())"
   ],
   "outputs": [
    {
     "output_type": "execute_result",
     "data": {
      "text/plain": [
       "<matplotlib.image.AxesImage at 0x18350dffb50>"
      ]
     },
     "metadata": {},
     "execution_count": 20
    },
    {
     "output_type": "display_data",
     "data": {
      "image/png": "[encoded data removed]",
      "text/plain": [
       "<Figure size 432x288 with 1 Axes>"
      ]
     },
     "metadata": {
      "needs_background": "light"
     }
    }
   ],
   "metadata": {}
  },
  {
   "cell_type": "code",
   "execution_count": 21,
   "source": [
    "# Adding some additional layers like average pooling\r\n",
    "class FirstCNN_v3(nn.Module):\r\n",
    "    def __init__(self): \r\n",
    "        super(FirstCNN_v3, self).__init__()\r\n",
    "        self.model = nn.Sequential(\r\n",
    "            nn.Conv2d(3, 6, 5),          # (N, 3, 32, 32) -> (N, 6, 28, 28)\r\n",
    "            # Taking batches in 2D, first paramerter corresponds to what size batches are we looking at size 2, and then stride of 2 so that they do not overlap\r\n",
    "            nn.AvgPool2d(2, stride=2),   # (N, 6, 28, 28) -> (N, 6, 14, 14)\r\n",
    "            nn.Conv2d(6, 16, 5),         # (N, 6, 14, 14) -> (N, 16, 10, 10)\r\n",
    "            nn.AvgPool2d(2, stride=2)    # (N, 16, 10, 10) -> (N, 16, 5, 5)\r\n",
    "        )\r\n",
    "        \r\n",
    "    def forward(self, x):\r\n",
    "        x = self.model(x)\r\n",
    "        return x"
   ],
   "outputs": [],
   "metadata": {}
  },
  {
   "cell_type": "code",
   "execution_count": 22,
   "source": [
    "net = FirstCNN_v3()\r\n",
    "out = net(images)\r\n",
    "out.shape"
   ],
   "outputs": [
    {
     "output_type": "execute_result",
     "data": {
      "text/plain": [
       "torch.Size([4, 16, 5, 5])"
      ]
     },
     "metadata": {},
     "execution_count": 22
    }
   ],
   "metadata": {}
  },
  {
   "cell_type": "code",
   "execution_count": 23,
   "source": [
    "plt.imshow(out[0, 0, :, :].detach().numpy())\r\n",
    "# As it is just 5 x 5 here it is difficult to see what is happening"
   ],
   "outputs": [
    {
     "output_type": "execute_result",
     "data": {
      "text/plain": [
       "<matplotlib.image.AxesImage at 0x18350cce5e0>"
      ]
     },
     "metadata": {},
     "execution_count": 23
    },
    {
     "output_type": "display_data",
     "data": {
      "image/png": "[encoded data removed]",
      "text/plain": [
       "<Figure size 432x288 with 1 Axes>"
      ]
     },
     "metadata": {
      "needs_background": "light"
     }
    }
   ],
   "metadata": {}
  },
  {
   "cell_type": "markdown",
   "source": [
    "## LeNet"
   ],
   "metadata": {}
  },
  {
   "cell_type": "code",
   "execution_count": 24,
   "source": [
    "# To understand in a bettre way see the pdf page 22\r\n",
    "class LeNet(nn.Module):\r\n",
    "    def __init__(self): \r\n",
    "        super(LeNet, self).__init__()\r\n",
    "        # First building the CNN part of the network\r\n",
    "        self.cnn_model = nn.Sequential(\r\n",
    "            nn.Conv2d(3, 6, 5),         # (N, 3, 32, 32) -> (N,  6, 28, 28) the size decreases because we are using akernal of 5 x 5\r\n",
    "            nn.Tanh(),                  # Adding a non linearity\r\n",
    "            nn.AvgPool2d(2, stride=2),  # (N, 6, 28, 28) -> (N,  6, 14, 14)\r\n",
    "            nn.Conv2d(6, 16, 5),        # (N, 6, 14, 14) -> (N, 16, 10, 10)  \r\n",
    "            nn.Tanh(),\r\n",
    "            nn.AvgPool2d(2, stride=2)   # (N,16, 10, 10) -> (N, 16, 5, 5)\r\n",
    "        )\r\n",
    "        # We are building the second set of sequentials (The linear fully connected one)\r\n",
    "        self.fc_model = nn.Sequential(\r\n",
    "            nn.Linear(400,120),         # (N, 400) -> (N, 120) 400 because 16*5*5\r\n",
    "            nn.Tanh(),\r\n",
    "            nn.Linear(120,84),          # (N, 120) -> (N, 84)\r\n",
    "            nn.Tanh(),\r\n",
    "            nn.Linear(84,10)            # (N, 84)  -> (N, 10) # last layer\r\n",
    "        )\r\n",
    "        \r\n",
    "    def forward(self, x):\r\n",
    "        print(x.shape)\r\n",
    "        # We will apply the first cnn_model to the given input\r\n",
    "        x = self.cnn_model(x)\r\n",
    "        print(x.shape)\r\n",
    "        # Flattening of the tensors - first index corresponds to the batch (so we are going to keep the dimentions)\r\n",
    "        # Everythong else is collapsed into the second index\r\n",
    "        x = x.view(x.size(0), -1)\r\n",
    "        print(x.shape)\r\n",
    "        # After respahing we are goint to pass them through the fc_model\r\n",
    "        x = self.fc_model(x)\r\n",
    "        print(x.shape)\r\n",
    "        # Output that we recieved after applying the LeNet Model\r\n",
    "        return x"
   ],
   "outputs": [],
   "metadata": {}
  },
  {
   "cell_type": "code",
   "execution_count": 25,
   "source": [
    "net = LeNet()\r\n",
    "out = net(images)"
   ],
   "outputs": [
    {
     "output_type": "stream",
     "name": "stdout",
     "text": [
      "torch.Size([4, 3, 32, 32])\n",
      "torch.Size([4, 16, 5, 5])\n",
      "torch.Size([4, 400])\n",
      "torch.Size([4, 10])\n"
     ]
    }
   ],
   "metadata": {}
  },
  {
   "cell_type": "code",
   "execution_count": 26,
   "source": [
    "print(out)"
   ],
   "outputs": [
    {
     "output_type": "stream",
     "name": "stdout",
     "text": [
      "tensor([[ 0.0194,  0.0178,  0.0688, -0.0951,  0.0735,  0.1062, -0.0674,  0.0184,\n",
      "          0.0509, -0.1179],\n",
      "        [ 0.0186,  0.0089,  0.0633, -0.0986,  0.0707,  0.1206, -0.0768,  0.0120,\n",
      "          0.0438, -0.1217],\n",
      "        [ 0.0170,  0.0131,  0.0730, -0.0944,  0.0819,  0.1195, -0.0793,  0.0106,\n",
      "          0.0473, -0.1152],\n",
      "        [ 0.0162,  0.0237,  0.0775, -0.0966,  0.0873,  0.1127, -0.0641,  0.0194,\n",
      "          0.0584, -0.1150]], grad_fn=<AddmmBackward>)\n"
     ]
    }
   ],
   "metadata": {}
  },
  {
   "cell_type": "code",
   "execution_count": 27,
   "source": [
    "max_values, pred_class = torch.max(out.data, 1)\r\n",
    "print(pred_class)"
   ],
   "outputs": [
    {
     "output_type": "stream",
     "name": "stdout",
     "text": [
      "tensor([5, 5, 5, 5])\n"
     ]
    }
   ],
   "metadata": {}
  },
  {
   "cell_type": "markdown",
   "source": [
    "## Training LeNet"
   ],
   "metadata": {}
  },
  {
   "cell_type": "code",
   "execution_count": 28,
   "source": [
    "class LeNet(nn.Module):\r\n",
    "    def __init__(self): \r\n",
    "        super(LeNet, self).__init__()\r\n",
    "        self.cnn_model = nn.Sequential(\r\n",
    "            nn.Conv2d(3, 6, 5),         # (N, 3, 32, 32) -> (N,  6, 28, 28)\r\n",
    "            nn.Tanh(),\r\n",
    "            nn.AvgPool2d(2, stride=2),  # (N, 6, 28, 28) -> (N,  6, 14, 14)\r\n",
    "            nn.Conv2d(6, 16, 5),        # (N, 6, 14, 14) -> (N, 16, 10, 10)  \r\n",
    "            nn.Tanh(),\r\n",
    "            nn.AvgPool2d(2, stride=2)   # (N,16, 10, 10) -> (N, 16, 5, 5)\r\n",
    "        )\r\n",
    "        self.fc_model = nn.Sequential(\r\n",
    "            nn.Linear(400,120),         # (N, 400) -> (N, 120)\r\n",
    "            nn.Tanh(),\r\n",
    "            nn.Linear(120,84),          # (N, 120) -> (N, 84)\r\n",
    "            nn.Tanh(),\r\n",
    "            nn.Linear(84,10)            # (N, 84)  -> (N, 10)\r\n",
    "        )\r\n",
    "        \r\n",
    "    def forward(self, x):\r\n",
    "        x = self.cnn_model(x)\r\n",
    "        x = x.view(x.size(0), -1)\r\n",
    "        x = self.fc_model(x)\r\n",
    "        return x"
   ],
   "outputs": [],
   "metadata": {}
  },
  {
   "cell_type": "code",
   "execution_count": 29,
   "source": [
    "# Loding the data with a higher barch size\r\n",
    "# Uisng a power of 2 because it is sometimes more effecient to use them in GPU's\r\n",
    "batch_size = 128\r\n",
    "trainset = torchvision.datasets.CIFAR10(root='./data', train=True, download=True, transform=transforms.ToTensor())\r\n",
    "# Defining the batchs ize here \r\n",
    "trainloader = torch.utils.data.DataLoader(trainset, batch_size=batch_size, shuffle=True)\r\n",
    "testset = torchvision.datasets.CIFAR10(root='./data', train=False, download=True, transform=transforms.ToTensor())\r\n",
    "testloader = torch.utils.data.DataLoader(testset, batch_size=batch_size, shuffle=False)"
   ],
   "outputs": [
    {
     "output_type": "stream",
     "name": "stdout",
     "text": [
      "Files already downloaded and verified\n",
      "Files already downloaded and verified\n"
     ]
    }
   ],
   "metadata": {}
  },
  {
   "cell_type": "code",
   "execution_count": 30,
   "source": [
    "# Given a particular loader it computes the accuracy of the model\r\n",
    "def evaluation(dataloader):\r\n",
    "    total, correct = 0, 0\r\n",
    "    for data in dataloader:\r\n",
    "        # laving the data components in 2 parts, these are the ground truths\r\n",
    "        inputs, labels = data\r\n",
    "        # We are applying the LeNet in the uptput we get the N, 10 tensor\r\n",
    "        outputs = net(inputs)\r\n",
    "        # computing the predicted values using torch.max \r\n",
    "        _, pred = torch.max(outputs.data, 1)\r\n",
    "        # Keeping track of the total no we have seen, and the once that are correct\r\n",
    "        total += labels.size(0)\r\n",
    "        correct += (pred == labels).sum().item()\r\n",
    "    # Finally returning the percentage of accurate predictions\r\n",
    "    return 100 * correct / total\r\n",
    "\r\n"
   ],
   "outputs": [],
   "metadata": {}
  },
  {
   "cell_type": "code",
   "execution_count": 31,
   "source": [
    "net = LeNet()"
   ],
   "outputs": [],
   "metadata": {}
  },
  {
   "cell_type": "code",
   "execution_count": 32,
   "source": [
    "# Backpropagation\r\n",
    "import torch.optim as optim\r\n",
    "# Using cross entropy loss function\r\n",
    "loss_fn = nn.CrossEntropyLoss()\r\n",
    "opt = optim.Adam(net.parameters())"
   ],
   "outputs": [],
   "metadata": {}
  },
  {
   "cell_type": "code",
   "execution_count": 33,
   "source": [
    "%%time\r\n",
    "loss_arr = []\r\n",
    "loss_epoch_arr = []\r\n",
    "max_epochs = 16\r\n",
    "\r\n",
    "for epoch in range(max_epochs):\r\n",
    "    # Each time we will iterate through the training loader, set the inputs and labels\r\n",
    "    for i, data in enumerate(trainloader, 0):\r\n",
    "\r\n",
    "        inputs, labels = data\r\n",
    "        # To reset any previous gradients on them\r\n",
    "        opt.zero_grad()\r\n",
    "\r\n",
    "        #forward pass\r\n",
    "        outputs = net(inputs)\r\n",
    "        # Loss  computation\r\n",
    "        loss = loss_fn(outputs, labels)\r\n",
    "        # backpropagation\r\n",
    "        loss.backward()\r\n",
    "        # step wherein we update all the parameters\r\n",
    "        opt.step()\r\n",
    "        \r\n",
    "        loss_arr.append(loss.item())\r\n",
    "        \r\n",
    "    loss_epoch_arr.append(loss.item())\r\n",
    "        \r\n",
    "    print('Epoch: %d/%d, Test acc: %0.2f, Train acc: %0.2f' % (epoch, max_epochs, evaluation(testloader), evaluation(trainloader)))\r\n",
    "    \r\n",
    "    \r\n",
    "plt.plot(loss_epoch_arr)\r\n",
    "plt.show()"
   ],
   "outputs": [
    {
     "output_type": "stream",
     "name": "stdout",
     "text": [
      "Epoch: 0/16, Test acc: 38.95, Train acc: 39.10\n",
      "Epoch: 1/16, Test acc: 43.43, Train acc: 44.18\n",
      "Epoch: 2/16, Test acc: 47.03, Train acc: 47.67\n",
      "Epoch: 3/16, Test acc: 49.28, Train acc: 50.43\n",
      "Epoch: 4/16, Test acc: 50.22, Train acc: 52.41\n",
      "Epoch: 5/16, Test acc: 52.30, Train acc: 55.05\n",
      "Epoch: 6/16, Test acc: 53.63, Train acc: 56.97\n",
      "Epoch: 7/16, Test acc: 54.32, Train acc: 58.18\n",
      "Epoch: 8/16, Test acc: 54.95, Train acc: 59.20\n",
      "Epoch: 9/16, Test acc: 55.30, Train acc: 60.55\n",
      "Epoch: 10/16, Test acc: 55.83, Train acc: 61.32\n",
      "Epoch: 11/16, Test acc: 55.60, Train acc: 62.52\n",
      "Epoch: 12/16, Test acc: 56.48, Train acc: 63.31\n",
      "Epoch: 13/16, Test acc: 56.34, Train acc: 63.67\n",
      "Epoch: 14/16, Test acc: 56.83, Train acc: 65.01\n",
      "Epoch: 15/16, Test acc: 56.65, Train acc: 65.71\n"
     ]
    },
    {
     "output_type": "display_data",
     "data": {
      "image/png": "[encoded data removed]",
      "text/plain": [
       "<Figure size 432x288 with 1 Axes>"
      ]
     },
     "metadata": {
      "needs_background": "light"
     }
    },
    {
     "output_type": "stream",
     "name": "stdout",
     "text": [
      "Wall time: 10min 33s\n"
     ]
    }
   ],
   "metadata": {}
  },
  {
   "cell_type": "markdown",
   "source": [
    "## Move to GPU"
   ],
   "metadata": {}
  },
  {
   "cell_type": "code",
   "execution_count": 34,
   "source": [
    "device = torch.device(\"cuda:0\" if torch.cuda.is_available() else \"cpu\")\r\n",
    "print(device)"
   ],
   "outputs": [
    {
     "output_type": "stream",
     "name": "stdout",
     "text": [
      "cuda:0\n"
     ]
    }
   ],
   "metadata": {}
  },
  {
   "cell_type": "code",
   "execution_count": 35,
   "source": [
    "def evaluation(dataloader):\r\n",
    "    total, correct = 0, 0\r\n",
    "    for data in dataloader:\r\n",
    "        inputs, labels = data\r\n",
    "        # Wehen we are moving the data to variables we have to declare that they are going to GPU uinsg inputs.to(device)\r\n",
    "        inputs, labels = inputs.to(device), labels.to(device)\r\n",
    "        # We moved input and output to GPU becasue we have to move the net (the netowrk) to the GPU\r\n",
    "        outputs = net(inputs)\r\n",
    "        _, pred = torch.max(outputs.data, 1)\r\n",
    "        total += labels.size(0)\r\n",
    "        correct += (pred == labels).sum().item()\r\n",
    "    return 100 * correct / total"
   ],
   "outputs": [],
   "metadata": {}
  },
  {
   "cell_type": "code",
   "execution_count": 36,
   "source": [
    "# Moving the net to GPU\r\n",
    "net = LeNet().to(device)\r\n",
    "loss_fn = nn.CrossEntropyLoss()\r\n",
    "opt = optim.Adam(net.parameters())"
   ],
   "outputs": [],
   "metadata": {}
  },
  {
   "cell_type": "code",
   "execution_count": 37,
   "source": [
    "%%time\r\n",
    "# Training Loop\r\n",
    "max_epochs = 16\r\n",
    "\r\n",
    "for epoch in range(max_epochs):\r\n",
    "\r\n",
    "    for i, data in enumerate(trainloader, 0):\r\n",
    "\r\n",
    "        inputs, labels = data\r\n",
    "        inputs, labels = inputs.to(device), labels.to(device)\r\n",
    "\r\n",
    "        opt.zero_grad()\r\n",
    "\r\n",
    "        outputs = net(inputs)\r\n",
    "        loss = loss_fn(outputs, labels)\r\n",
    "        loss.backward()\r\n",
    "        opt.step()\r\n",
    "        \r\n",
    "    print('Epoch: %d/%d' % (epoch, max_epochs))"
   ],
   "outputs": [
    {
     "output_type": "stream",
     "name": "stdout",
     "text": [
      "Epoch: 0/16\n",
      "Epoch: 1/16\n",
      "Epoch: 2/16\n",
      "Epoch: 3/16\n",
      "Epoch: 4/16\n",
      "Epoch: 5/16\n",
      "Epoch: 6/16\n",
      "Epoch: 7/16\n",
      "Epoch: 8/16\n",
      "Epoch: 9/16\n",
      "Epoch: 10/16\n",
      "Epoch: 11/16\n",
      "Epoch: 12/16\n",
      "Epoch: 13/16\n",
      "Epoch: 14/16\n",
      "Epoch: 15/16\n",
      "Wall time: 4min 57s\n"
     ]
    }
   ],
   "metadata": {}
  },
  {
   "cell_type": "code",
   "execution_count": 38,
   "source": [
    "# Printing the accuracy on test and train\r\n",
    "print('Test acc: %0.2f, Train acc: %0.2f' % (evaluation(testloader), evaluation(trainloader)))"
   ],
   "outputs": [
    {
     "output_type": "stream",
     "name": "stdout",
     "text": [
      "Test acc: 55.63, Train acc: 64.96\n"
     ]
    }
   ],
   "metadata": {}
  },
  {
   "cell_type": "markdown",
   "source": [
    "NOTE  \r\n",
    "Important thing is to ensure that the net, the input the output all are in the GPU."
   ],
   "metadata": {}
  },
  {
   "cell_type": "markdown",
   "source": [
    "## Basic Visualisation"
   ],
   "metadata": {}
  },
  {
   "cell_type": "code",
   "execution_count": 39,
   "source": [
    "imshow(torchvision.utils.make_grid(images))"
   ],
   "outputs": [
    {
     "output_type": "display_data",
     "data": {
      "image/png": "[encoded data removed]",
      "text/plain": [
       "<Figure size 432x288 with 1 Axes>"
      ]
     },
     "metadata": {
      "needs_background": "light"
     }
    }
   ],
   "metadata": {}
  },
  {
   "cell_type": "code",
   "execution_count": 40,
   "source": [
    "# Since the images are in the CPU we are going to move the net to CPU\r\n",
    "net = net.to('cpu')"
   ],
   "outputs": [],
   "metadata": {}
  },
  {
   "cell_type": "code",
   "execution_count": 41,
   "source": [
    "out = net(images)\r\n",
    "print(out.shape)"
   ],
   "outputs": [
    {
     "output_type": "stream",
     "name": "stdout",
     "text": [
      "torch.Size([4, 10])\n"
     ]
    }
   ],
   "metadata": {}
  },
  {
   "cell_type": "code",
   "execution_count": 42,
   "source": [
    "# We want to see the output of the first covolution layer. \r\n",
    "# We will have different sequential models we would have declared \r\n",
    "# So inside the different squential models there are different layers, in which we want to see the output of the layer\r\n",
    "out = net.cnn_model[0](images) # Here we are siing the first layer\r\n",
    "out.shape"
   ],
   "outputs": [
    {
     "output_type": "execute_result",
     "data": {
      "text/plain": [
       "torch.Size([4, 6, 28, 28])"
      ]
     },
     "metadata": {},
     "execution_count": 42
    }
   ],
   "metadata": {}
  },
  {
   "cell_type": "code",
   "execution_count": 43,
   "source": [
    "# Taking one particular image\r\n",
    "image_id = 3\r\n",
    "plt.figure(figsize = (2,2))\r\n",
    "imshow(images[image_id,])"
   ],
   "outputs": [
    {
     "output_type": "display_data",
     "data": {
      "image/png": "[encoded data removed]",
      "text/plain": [
       "<Figure size 144x144 with 1 Axes>"
      ]
     },
     "metadata": {
      "needs_background": "light"
     }
    }
   ],
   "metadata": {}
  },
  {
   "cell_type": "code",
   "execution_count": 44,
   "source": [
    "# So fot this particular image we would like to print all the particular 6 layers\r\n",
    "plt.figure(figsize = (6,6))\r\n",
    "plt.subplot(321)\r\n",
    "for i in range(6):\r\n",
    "    ax1 = plt.subplot(3, 2, i+1)\r\n",
    "    plt.imshow(out[image_id, i, :, :].detach().numpy(), cmap=\"binary\")\r\n",
    "plt.show()"
   ],
   "outputs": [
    {
     "output_type": "stream",
     "name": "stderr",
     "text": [
      "<ipython-input-44-8ecf16ba7bcc>:5: MatplotlibDeprecationWarning: Adding an axes using the same arguments as a previous axes currently reuses the earlier instance.  In a future version, a new instance will always be created and returned.  Meanwhile, this warning can be suppressed, and the future behavior ensured, by passing a unique label to each axes instance.\n",
      "  ax1 = plt.subplot(3, 2, i+1)\n"
     ]
    },
    {
     "output_type": "display_data",
     "data": {
      "image/png": "[encoded data removed]",
      "text/plain": [
       "<Figure size 432x432 with 6 Axes>"
      ]
     },
     "metadata": {
      "needs_background": "light"
     }
    }
   ],
   "metadata": {}
  },
  {
   "cell_type": "markdown",
   "source": [
    "## Exercises"
   ],
   "metadata": {}
  },
  {
   "cell_type": "markdown",
   "source": [
    "* Modify LeNet to work with ReLU instead of Tanh -> What is the impact on training time, final loss\r\n",
    "* We have observed over-fitting -> Use weight_decay in torch.optim to add L2 regularisation\r\n",
    "* Instead of CIFAR10, use the MNIST data available from `torchvision.datasets.MNIST`. Download and visualise MNIST data.\r\n",
    "* But importantly MNIST images have only 1 channel instead of 3 channels in the case of CIFAR10. Modify LeNet to work with MNIST. Train and find optimised test accuracy."
   ],
   "metadata": {}
  }
 ],
 "metadata": {
  "orig_nbformat": 4,
  "language_info": {
   "name": "python",
   "version": "3.8.8",
   "mimetype": "text/x-python",
   "codemirror_mode": {
    "name": "ipython",
    "version": 3
   },
   "pygments_lexer": "ipython3",
   "nbconvert_exporter": "python",
   "file_extension": ".py"
  },
  "kernelspec": {
   "name": "python3",
   "display_name": "Python 3.8.8 64-bit"
  },
  "interpreter": {
   "hash": "5f64f01a6cdb813bd23f3c2980301e513b65108ef9650403b1a46775be8a9390"
  }
 },
 "nbformat": 4,
 "nbformat_minor": 2
}