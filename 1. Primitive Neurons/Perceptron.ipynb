{
 "cells": [
  {
   "cell_type": "markdown",
   "metadata": {},
   "source": [
    "# Percsptron Model\n",
    " $y= 1,if\\sum_i w_i x_i >=b$\n",
    " $y = 0, otherwise$\n"
   ]
  },
  {
   "cell_type": "code",
   "execution_count": 6,
   "metadata": {},
   "outputs": [],
   "source": [
    "# Here brute force search si not possible as both b and w have a infinate domain.\n",
    "class Perceptron():\n",
    "    def __init__(self):\n",
    "        ''' w is an array and b is scalar\n",
    "            Declaring the threshold value for the model(b)'''\n",
    "        self.w = None\n",
    "        self.b = None\n",
    "    \n",
    "    def model(self,x):\n",
    "        '''According to the perceptron formula written above'''\n",
    "        return 1 if (np.dot(self.w,x) >= self.b) else 0\n",
    "\n",
    "    def predict(self,x):\n",
    "        '''To get the binarised output for each corresponding X in to the output Y(taking the vector of X and give vector of Y as output)'''\n",
    "        Y = []\n",
    "        for x in X:\n",
    "            result = self.model(x)\n",
    "            Y.append(result)\n",
    "        return np.array(Y)\n",
    "    \n",
    "    '''Fit algo different from that of mpneuron as it does not iterate through every 'w' and 'b' beacuse firstly here the value b is real therefor more cases and a             combination of w and b will  take a lot of time. BASICALLY - brute force search is not possible. '''\n",
    "\n",
    "    def fit(self,X,Y):\n",
    "        '''Initialising w with all ones and b with all 0'''\n",
    "\n",
    "        self.w = np.ones(X.shape[1]) #done like this because it is a vector. All values of w are initially filled with 1\n",
    "        self.b = 0\n",
    "\n",
    "        for x,y in zip(X, Y):\n",
    "            y_pred = self.model(x)\n",
    "            if y == 1 and y_pred == 0:\n",
    "                self.w = self.w + x\n",
    "                self.b = self.b + 1\n",
    "            elif y == 0 and y_pred == 1:\n",
    "                self.w = self.w - x\n",
    "                self.b = self.b - 1\n",
    "\n",
    "\n"
   ]
  },
  {
   "cell_type": "code",
   "execution_count": null,
   "metadata": {},
   "outputs": [],
   "source": [
    "perceptron = Perceptron()"
   ]
  }
 ],
 "metadata": {
  "kernelspec": {
   "display_name": "Python 3.8.5 64-bit ('base': conda)",
   "metadata": {
    "interpreter": {
     "hash": "96a5b2c8615b6af4330dccc0a175f9e1be44a5aebebe076415aefa8805d772c0"
    }
   },
   "name": "python3"
  },
  "language_info": {
   "codemirror_mode": {
    "name": "ipython",
    "version": 3
   },
   "file_extension": ".py",
   "mimetype": "text/x-python",
   "name": "python",
   "nbconvert_exporter": "python",
   "pygments_lexer": "ipython3",
   "version": "3.8.5"
  },
  "orig_nbformat": 2
 },
 "nbformat": 4,
 "nbformat_minor": 2
}